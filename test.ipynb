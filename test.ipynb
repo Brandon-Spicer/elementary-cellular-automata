{
 "cells": [
  {
   "cell_type": "markdown",
   "metadata": {},
   "source": [
    "### Elementary Cellular Automata\n",
    "Goals:\n",
    "* Learn how iterators work\n",
    "* Explore cellular automata\n",
    "* How to web"
   ]
  },
  {
   "cell_type": "code",
   "execution_count": 1,
   "metadata": {},
   "outputs": [],
   "source": [
    "import pandas as pd\n",
    "import numpy as np\n",
    "import seaborn as sns\n",
    "import matplotlib.pyplot as plt\n"
   ]
  },
  {
   "cell_type": "code",
   "execution_count": 21,
   "metadata": {},
   "outputs": [],
   "source": [
    "# try making an iterator\n",
    "\n",
    "class testy:\n",
    "    def __init__(self, max = 10):\n",
    "        self.max = max\n",
    "        self.n = 0\n",
    "        \n",
    "    def __iter__(self):\n",
    "        return self\n",
    "    \n",
    "    def __next__(self):\n",
    "        if self.n <= self.max:\n",
    "            output = self.n\n",
    "            self.n += 1\n",
    "            return output\n",
    "        else:\n",
    "            raise StopIteration\n",
    "            \n",
    "            "
   ]
  },
  {
   "cell_type": "code",
   "execution_count": 28,
   "metadata": {},
   "outputs": [],
   "source": [
    "foo = testy(max = 2)"
   ]
  },
  {
   "cell_type": "code",
   "execution_count": 369,
   "metadata": {},
   "outputs": [],
   "source": [
    "# try making eca iterator\n",
    "\n",
    "\n",
    "class ECA:\n",
    "    # pass in a numpy array\n",
    "    def __init__(self, seed, rule, stop=-1):\n",
    "        self.count = 0\n",
    "        self.stop = stop\n",
    "        self.seed = seed\n",
    "        self.started = False\n",
    "        self.rule = rule\n",
    "        self.rule_map = []\n",
    "        for i in range(8):\n",
    "            self.rule_map.append((rule // 2**i) % 2)\n",
    "        print(self.rule_map)\n",
    "            \n",
    "        # define a function that takes in i and outputs next state for i\n",
    "    def calc_next(self, i):\n",
    "        hood = [] \n",
    "        for k in range(-1, 2):\n",
    "            # reversed so that index=0 -> 1s bit, like rule_map\n",
    "            hood.append(self.seed[i-k % len(self.seed)]) \n",
    "\n",
    "        rule_index = 0\n",
    "        for i in range(3):\n",
    "            rule_index += hood[i] * (2**i)\n",
    "            \n",
    "        output = self.rule_map[rule_index]\n",
    "        return output\n",
    "        \n",
    "    def __iter__(self):\n",
    "        return self\n",
    "    \n",
    "    def __next__(self):\n",
    "        if self.count == self.stop:\n",
    "            raise StopIteration\n",
    "            \n",
    "        self.count += 1\n",
    "        \n",
    "        if self.started == False:\n",
    "            self.started = True\n",
    "            return self.seed\n",
    "        \n",
    "        # for each element in seed, get output. put in next state\n",
    "        self.next_state = self.seed.copy()\n",
    "        for i in range(len(self.seed)):\n",
    "            self.next_state[i] = self.calc_next(i)\n",
    "            # set seed = next state and return seed.\n",
    "        self.seed = self.next_state\n",
    "        return self.seed\n",
    "        "
   ]
  },
  {
   "cell_type": "code",
   "execution_count": 370,
   "metadata": {},
   "outputs": [
    {
     "name": "stdout",
     "output_type": "stream",
     "text": [
      "[0, 1, 1, 1, 1, 0, 0, 0]\n"
     ]
    }
   ],
   "source": [
    "seed = [0 for _ in range(40)]\n",
    "seed[20] = 1\n",
    "foo = ECA(seed, 30)"
   ]
  },
  {
   "cell_type": "code",
   "execution_count": 371,
   "metadata": {},
   "outputs": [],
   "source": [
    "grid = []\n",
    "for _ in range(100):\n",
    "    grid.append(next(foo))"
   ]
  },
  {
   "cell_type": "code",
   "execution_count": 372,
   "metadata": {},
   "outputs": [
    {
     "name": "stdout",
     "output_type": "stream",
     "text": [
      "                                        ■                                       \n",
      "                                      ■ ■ ■                                     \n",
      "                                    ■ ■     ■                                   \n",
      "                                  ■ ■   ■ ■ ■ ■                                 \n",
      "                                ■ ■     ■       ■                               \n",
      "                              ■ ■   ■ ■ ■ ■   ■ ■ ■                             \n",
      "                            ■ ■     ■         ■     ■                           \n",
      "                          ■ ■   ■ ■ ■ ■     ■ ■ ■ ■ ■ ■                         \n",
      "                        ■ ■     ■       ■ ■ ■           ■                       \n",
      "                      ■ ■   ■ ■ ■ ■   ■ ■     ■       ■ ■ ■                     \n",
      "                    ■ ■     ■         ■   ■ ■ ■ ■   ■ ■     ■                   \n",
      "                  ■ ■   ■ ■ ■ ■     ■ ■   ■         ■   ■ ■ ■ ■                 \n",
      "                ■ ■     ■       ■ ■ ■     ■ ■     ■ ■   ■       ■               \n",
      "              ■ ■   ■ ■ ■ ■   ■ ■     ■ ■ ■   ■ ■ ■     ■ ■   ■ ■ ■             \n",
      "            ■ ■     ■         ■   ■ ■ ■       ■     ■ ■ ■     ■     ■           \n",
      "          ■ ■   ■ ■ ■ ■     ■ ■   ■     ■   ■ ■ ■ ■ ■     ■ ■ ■ ■ ■ ■ ■         \n",
      "        ■ ■     ■       ■ ■ ■     ■ ■ ■ ■   ■         ■ ■ ■             ■       \n",
      "      ■ ■   ■ ■ ■ ■   ■ ■     ■ ■ ■         ■ ■     ■ ■     ■         ■ ■ ■     \n",
      "    ■ ■     ■         ■   ■ ■ ■     ■     ■ ■   ■ ■ ■   ■ ■ ■ ■     ■ ■     ■   \n",
      "  ■ ■   ■ ■ ■ ■     ■ ■   ■     ■ ■ ■ ■ ■ ■     ■       ■       ■ ■ ■   ■ ■ ■ ■ \n",
      "  ■     ■       ■ ■ ■     ■ ■ ■ ■           ■ ■ ■ ■   ■ ■ ■   ■ ■       ■       \n",
      "■ ■ ■ ■ ■ ■   ■ ■     ■ ■ ■       ■       ■ ■         ■       ■   ■   ■ ■ ■     \n",
      "■             ■   ■ ■ ■     ■   ■ ■ ■   ■ ■   ■     ■ ■ ■   ■ ■   ■   ■     ■ ■ \n",
      "  ■         ■ ■   ■     ■ ■ ■   ■       ■     ■ ■ ■ ■       ■     ■   ■ ■ ■ ■   \n",
      "■ ■ ■     ■ ■     ■ ■ ■ ■       ■ ■   ■ ■ ■ ■ ■       ■   ■ ■ ■ ■ ■   ■       ■ \n",
      "      ■ ■ ■   ■ ■ ■       ■   ■ ■     ■         ■   ■ ■   ■           ■ ■   ■ ■ \n",
      "■   ■ ■       ■     ■   ■ ■   ■   ■ ■ ■ ■     ■ ■   ■     ■ ■       ■ ■     ■   \n",
      "■   ■   ■   ■ ■ ■ ■ ■   ■     ■   ■       ■ ■ ■     ■ ■ ■ ■   ■   ■ ■   ■ ■ ■   \n",
      "■   ■   ■   ■           ■ ■ ■ ■   ■ ■   ■ ■     ■ ■ ■         ■   ■     ■       \n",
      "■   ■   ■   ■ ■       ■ ■         ■     ■   ■ ■ ■     ■     ■ ■   ■ ■ ■ ■ ■   ■ \n",
      "    ■   ■   ■   ■   ■ ■   ■     ■ ■ ■ ■ ■   ■     ■ ■ ■ ■ ■ ■     ■           ■ \n",
      "■ ■ ■   ■   ■   ■   ■     ■ ■ ■ ■           ■ ■ ■ ■           ■ ■ ■ ■       ■ ■ \n",
      "        ■   ■   ■   ■ ■ ■ ■       ■       ■ ■       ■       ■ ■       ■   ■ ■   \n",
      "      ■ ■   ■   ■   ■       ■   ■ ■ ■   ■ ■   ■   ■ ■ ■   ■ ■   ■   ■ ■   ■   ■ \n",
      "■   ■ ■     ■   ■   ■ ■   ■ ■   ■       ■     ■   ■       ■     ■   ■     ■   ■ \n",
      "    ■   ■ ■ ■   ■   ■     ■     ■ ■   ■ ■ ■ ■ ■   ■ ■   ■ ■ ■ ■ ■   ■ ■ ■ ■   ■ \n",
      "■ ■ ■   ■       ■   ■ ■ ■ ■ ■ ■ ■     ■           ■     ■           ■         ■ \n",
      "        ■ ■   ■ ■   ■             ■ ■ ■ ■       ■ ■ ■ ■ ■ ■       ■ ■ ■     ■ ■ \n",
      "■     ■ ■     ■     ■ ■         ■ ■       ■   ■ ■           ■   ■ ■     ■ ■ ■   \n",
      "■ ■ ■ ■   ■ ■ ■ ■ ■ ■   ■     ■ ■   ■   ■ ■   ■   ■       ■ ■   ■   ■ ■ ■       \n",
      "■         ■             ■ ■ ■ ■     ■   ■     ■   ■ ■   ■ ■     ■   ■     ■   ■ \n",
      "  ■     ■ ■ ■         ■ ■       ■ ■ ■   ■ ■ ■ ■   ■     ■   ■ ■ ■   ■ ■ ■ ■   ■ \n",
      "  ■ ■ ■ ■     ■     ■ ■   ■   ■ ■       ■         ■ ■ ■ ■   ■       ■         ■ \n",
      "  ■       ■ ■ ■ ■ ■ ■     ■   ■   ■   ■ ■ ■     ■ ■         ■ ■   ■ ■ ■     ■ ■ \n",
      "  ■ ■   ■ ■           ■ ■ ■   ■   ■   ■     ■ ■ ■   ■     ■ ■     ■     ■ ■ ■   \n",
      "■ ■     ■   ■       ■ ■       ■   ■   ■ ■ ■ ■       ■ ■ ■ ■   ■ ■ ■ ■ ■ ■     ■ \n",
      "    ■ ■ ■   ■ ■   ■ ■   ■   ■ ■   ■   ■       ■   ■ ■         ■           ■ ■ ■ \n",
      "■ ■ ■       ■     ■     ■   ■     ■   ■ ■   ■ ■   ■   ■     ■ ■ ■       ■ ■     \n",
      "■     ■   ■ ■ ■ ■ ■ ■ ■ ■   ■ ■ ■ ■   ■     ■     ■   ■ ■ ■ ■     ■   ■ ■   ■ ■ \n",
      "  ■ ■ ■   ■                 ■         ■ ■ ■ ■ ■ ■ ■   ■       ■ ■ ■   ■     ■   \n",
      "■ ■       ■ ■             ■ ■ ■     ■ ■               ■ ■   ■ ■       ■ ■ ■ ■ ■ \n",
      "    ■   ■ ■   ■         ■ ■     ■ ■ ■   ■           ■ ■     ■   ■   ■ ■         \n",
      "  ■ ■   ■     ■ ■     ■ ■   ■ ■ ■       ■ ■       ■ ■   ■ ■ ■   ■   ■   ■       \n",
      "■ ■     ■ ■ ■ ■   ■ ■ ■     ■     ■   ■ ■   ■   ■ ■     ■       ■   ■   ■ ■     \n",
      "■   ■ ■ ■         ■     ■ ■ ■ ■ ■ ■   ■     ■   ■   ■ ■ ■ ■   ■ ■   ■   ■   ■ ■ \n",
      "    ■     ■     ■ ■ ■ ■ ■             ■ ■ ■ ■   ■   ■         ■     ■   ■   ■   \n",
      "  ■ ■ ■ ■ ■ ■ ■ ■         ■         ■ ■         ■   ■ ■     ■ ■ ■ ■ ■   ■   ■ ■ \n",
      "  ■               ■     ■ ■ ■     ■ ■   ■     ■ ■   ■   ■ ■ ■           ■   ■   \n",
      "■ ■ ■           ■ ■ ■ ■ ■     ■ ■ ■     ■ ■ ■ ■     ■   ■     ■       ■ ■   ■ ■ \n",
      "      ■       ■ ■         ■ ■ ■     ■ ■ ■       ■ ■ ■   ■ ■ ■ ■ ■   ■ ■     ■   \n",
      "    ■ ■ ■   ■ ■   ■     ■ ■     ■ ■ ■     ■   ■ ■       ■           ■   ■ ■ ■ ■ \n",
      "■ ■ ■       ■     ■ ■ ■ ■   ■ ■ ■     ■ ■ ■   ■   ■   ■ ■ ■       ■ ■   ■       \n",
      "■     ■   ■ ■ ■ ■ ■         ■     ■ ■ ■       ■   ■   ■     ■   ■ ■     ■ ■   ■ \n",
      "  ■ ■ ■   ■         ■     ■ ■ ■ ■ ■     ■   ■ ■   ■   ■ ■ ■ ■   ■   ■ ■ ■     ■ \n",
      "  ■       ■ ■     ■ ■ ■ ■ ■         ■ ■ ■   ■     ■   ■         ■   ■     ■ ■ ■ \n",
      "  ■ ■   ■ ■   ■ ■ ■         ■     ■ ■       ■ ■ ■ ■   ■ ■     ■ ■   ■ ■ ■ ■     \n",
      "■ ■     ■     ■     ■     ■ ■ ■ ■ ■   ■   ■ ■         ■   ■ ■ ■     ■       ■   \n",
      "■   ■ ■ ■ ■ ■ ■ ■ ■ ■ ■ ■ ■           ■   ■   ■     ■ ■   ■     ■ ■ ■ ■   ■ ■   \n",
      "■   ■                       ■       ■ ■   ■   ■ ■ ■ ■     ■ ■ ■ ■         ■     \n",
      "■   ■ ■                   ■ ■ ■   ■ ■     ■   ■       ■ ■ ■       ■     ■ ■ ■ ■ \n",
      "    ■   ■               ■ ■       ■   ■ ■ ■   ■ ■   ■ ■     ■   ■ ■ ■ ■ ■       \n",
      "  ■ ■   ■ ■           ■ ■   ■   ■ ■   ■       ■     ■   ■ ■ ■   ■         ■     \n",
      "■ ■     ■   ■       ■ ■     ■   ■     ■ ■   ■ ■ ■ ■ ■   ■       ■ ■     ■ ■ ■   \n",
      "■   ■ ■ ■   ■ ■   ■ ■   ■ ■ ■   ■ ■ ■ ■     ■           ■ ■   ■ ■   ■ ■ ■       \n",
      "■   ■       ■     ■     ■       ■       ■ ■ ■ ■       ■ ■     ■     ■     ■   ■ \n",
      "    ■ ■   ■ ■ ■ ■ ■ ■ ■ ■ ■   ■ ■ ■   ■ ■       ■   ■ ■   ■ ■ ■ ■ ■ ■ ■ ■ ■   ■ \n",
      "■ ■ ■     ■                   ■       ■   ■   ■ ■   ■     ■                   ■ \n",
      "      ■ ■ ■ ■               ■ ■ ■   ■ ■   ■   ■     ■ ■ ■ ■ ■               ■ ■ \n",
      "■   ■ ■       ■           ■ ■       ■     ■   ■ ■ ■ ■         ■           ■ ■   \n",
      "■   ■   ■   ■ ■ ■       ■ ■   ■   ■ ■ ■ ■ ■   ■       ■     ■ ■ ■       ■ ■     \n",
      "■   ■   ■   ■     ■   ■ ■     ■   ■           ■ ■   ■ ■ ■ ■ ■     ■   ■ ■   ■ ■ \n",
      "    ■   ■   ■ ■ ■ ■   ■   ■ ■ ■   ■ ■       ■ ■     ■         ■ ■ ■   ■     ■   \n",
      "  ■ ■   ■   ■         ■   ■       ■   ■   ■ ■   ■ ■ ■ ■     ■ ■       ■ ■ ■ ■ ■ \n",
      "  ■     ■   ■ ■     ■ ■   ■ ■   ■ ■   ■   ■     ■       ■ ■ ■   ■   ■ ■         \n",
      "■ ■ ■ ■ ■   ■   ■ ■ ■     ■     ■     ■   ■ ■ ■ ■ ■   ■ ■       ■   ■   ■       \n",
      "■           ■   ■     ■ ■ ■ ■ ■ ■ ■ ■ ■   ■           ■   ■   ■ ■   ■   ■ ■   ■ \n",
      "  ■       ■ ■   ■ ■ ■ ■                   ■ ■       ■ ■   ■   ■     ■   ■     ■ \n",
      "  ■ ■   ■ ■     ■       ■               ■ ■   ■   ■ ■     ■   ■ ■ ■ ■   ■ ■ ■ ■ \n",
      "  ■     ■   ■ ■ ■ ■   ■ ■ ■           ■ ■     ■   ■   ■ ■ ■   ■         ■       \n",
      "■ ■ ■ ■ ■   ■         ■     ■       ■ ■   ■ ■ ■   ■   ■       ■ ■     ■ ■ ■     \n",
      "■           ■ ■     ■ ■ ■ ■ ■ ■   ■ ■     ■       ■   ■ ■   ■ ■   ■ ■ ■     ■ ■ \n",
      "  ■       ■ ■   ■ ■ ■             ■   ■ ■ ■ ■   ■ ■   ■     ■     ■     ■ ■ ■   \n",
      "■ ■ ■   ■ ■     ■     ■         ■ ■   ■         ■     ■ ■ ■ ■ ■ ■ ■ ■ ■ ■     ■ \n",
      "        ■   ■ ■ ■ ■ ■ ■ ■     ■ ■     ■ ■     ■ ■ ■ ■ ■                   ■ ■ ■ \n",
      "■     ■ ■   ■             ■ ■ ■   ■ ■ ■   ■ ■ ■         ■               ■ ■     \n",
      "■ ■ ■ ■     ■ ■         ■ ■       ■       ■     ■     ■ ■ ■           ■ ■   ■ ■ \n",
      "        ■ ■ ■   ■     ■ ■   ■   ■ ■ ■   ■ ■ ■ ■ ■ ■ ■ ■     ■       ■ ■     ■   \n",
      "      ■ ■       ■ ■ ■ ■     ■   ■       ■               ■ ■ ■ ■   ■ ■   ■ ■ ■ ■ \n",
      "■   ■ ■   ■   ■ ■       ■ ■ ■   ■ ■   ■ ■ ■           ■ ■         ■     ■       \n",
      "■   ■     ■   ■   ■   ■ ■       ■     ■     ■       ■ ■   ■     ■ ■ ■ ■ ■ ■   ■ \n"
     ]
    }
   ],
   "source": [
    "for row in grid:\n",
    "    ret = ''\n",
    "    for cell in row:\n",
    "        if cell:\n",
    "            ret += '■ '\n",
    "        else:\n",
    "            ret += '  '\n",
    "    print(ret)"
   ]
  },
  {
   "cell_type": "code",
   "execution_count": 368,
   "metadata": {},
   "outputs": [
    {
     "data": {
      "text/plain": [
       "11110"
      ]
     },
     "execution_count": 368,
     "metadata": {},
     "output_type": "execute_result"
    }
   ],
   "source": [
    "int(bin(30)[2:])"
   ]
  },
  {
   "cell_type": "code",
   "execution_count": 48,
   "metadata": {},
   "outputs": [
    {
     "data": {
      "text/plain": [
       "[3, 0, 1]"
      ]
     },
     "execution_count": 48,
     "metadata": {},
     "output_type": "execute_result"
    }
   ],
   "source": [
    "list(reversed([1,0,3]))"
   ]
  },
  {
   "cell_type": "code",
   "execution_count": 379,
   "metadata": {},
   "outputs": [],
   "source": [
    "# write this as a generator\n",
    "\n",
    "def ecagen(seed, rule, stop=-1):\n",
    "    count = 0\n",
    "    rule_map = []\n",
    "    \n",
    "    for i in range(8):\n",
    "        rule_map.append((rule // 2**i) % 2)\n",
    "    \n",
    "    while(count != stop):\n",
    "        if count == 0:\n",
    "            count += 1\n",
    "            yield seed\n",
    "            \n",
    "        if count == stop:\n",
    "            raise StopIteration\n",
    "            \n",
    "        count += 1\n",
    "        \n",
    "        next_state = seed.copy()\n",
    "        \n",
    "        for i in range(len(seed)):\n",
    "            hood = []\n",
    "            for j in range(-1, 2):\n",
    "                hood.append(seed[i-j % len(seed)])\n",
    "                \n",
    "            rule_index = 0\n",
    "            for k in range(3):\n",
    "                rule_index += hood[k] * (2**k)\n",
    "            \n",
    "            next_state[i] = rule_map[rule_index]\n",
    "        \n",
    "        seed = next_state\n",
    "        yield seed"
   ]
  },
  {
   "cell_type": "code",
   "execution_count": 402,
   "metadata": {},
   "outputs": [],
   "source": [
    "seed = [0 for _ in range(40)]\n",
    "seed[20] = 1\n",
    "foo = ecagen(seed, 30)"
   ]
  },
  {
   "cell_type": "code",
   "execution_count": 403,
   "metadata": {},
   "outputs": [],
   "source": [
    "grid = []\n",
    "for _ in range(100):\n",
    "    grid.append(next(foo))"
   ]
  },
  {
   "cell_type": "code",
   "execution_count": 404,
   "metadata": {},
   "outputs": [
    {
     "name": "stdout",
     "output_type": "stream",
     "text": [
      "                                        ■                                       \n",
      "                                      ■ ■ ■                                     \n",
      "                                    ■ ■     ■                                   \n",
      "                                  ■ ■   ■ ■ ■ ■                                 \n",
      "                                ■ ■     ■       ■                               \n",
      "                              ■ ■   ■ ■ ■ ■   ■ ■ ■                             \n",
      "                            ■ ■     ■         ■     ■                           \n",
      "                          ■ ■   ■ ■ ■ ■     ■ ■ ■ ■ ■ ■                         \n",
      "                        ■ ■     ■       ■ ■ ■           ■                       \n",
      "                      ■ ■   ■ ■ ■ ■   ■ ■     ■       ■ ■ ■                     \n",
      "                    ■ ■     ■         ■   ■ ■ ■ ■   ■ ■     ■                   \n",
      "                  ■ ■   ■ ■ ■ ■     ■ ■   ■         ■   ■ ■ ■ ■                 \n",
      "                ■ ■     ■       ■ ■ ■     ■ ■     ■ ■   ■       ■               \n",
      "              ■ ■   ■ ■ ■ ■   ■ ■     ■ ■ ■   ■ ■ ■     ■ ■   ■ ■ ■             \n",
      "            ■ ■     ■         ■   ■ ■ ■       ■     ■ ■ ■     ■     ■           \n",
      "          ■ ■   ■ ■ ■ ■     ■ ■   ■     ■   ■ ■ ■ ■ ■     ■ ■ ■ ■ ■ ■ ■         \n",
      "        ■ ■     ■       ■ ■ ■     ■ ■ ■ ■   ■         ■ ■ ■             ■       \n",
      "      ■ ■   ■ ■ ■ ■   ■ ■     ■ ■ ■         ■ ■     ■ ■     ■         ■ ■ ■     \n",
      "    ■ ■     ■         ■   ■ ■ ■     ■     ■ ■   ■ ■ ■   ■ ■ ■ ■     ■ ■     ■   \n",
      "  ■ ■   ■ ■ ■ ■     ■ ■   ■     ■ ■ ■ ■ ■ ■     ■       ■       ■ ■ ■   ■ ■ ■ ■ \n",
      "  ■     ■       ■ ■ ■     ■ ■ ■ ■           ■ ■ ■ ■   ■ ■ ■   ■ ■       ■       \n",
      "■ ■ ■ ■ ■ ■   ■ ■     ■ ■ ■       ■       ■ ■         ■       ■   ■   ■ ■ ■     \n",
      "■             ■   ■ ■ ■     ■   ■ ■ ■   ■ ■   ■     ■ ■ ■   ■ ■   ■   ■     ■ ■ \n",
      "  ■         ■ ■   ■     ■ ■ ■   ■       ■     ■ ■ ■ ■       ■     ■   ■ ■ ■ ■   \n",
      "■ ■ ■     ■ ■     ■ ■ ■ ■       ■ ■   ■ ■ ■ ■ ■       ■   ■ ■ ■ ■ ■   ■       ■ \n",
      "      ■ ■ ■   ■ ■ ■       ■   ■ ■     ■         ■   ■ ■   ■           ■ ■   ■ ■ \n",
      "■   ■ ■       ■     ■   ■ ■   ■   ■ ■ ■ ■     ■ ■   ■     ■ ■       ■ ■     ■   \n",
      "■   ■   ■   ■ ■ ■ ■ ■   ■     ■   ■       ■ ■ ■     ■ ■ ■ ■   ■   ■ ■   ■ ■ ■   \n",
      "■   ■   ■   ■           ■ ■ ■ ■   ■ ■   ■ ■     ■ ■ ■         ■   ■     ■       \n",
      "■   ■   ■   ■ ■       ■ ■         ■     ■   ■ ■ ■     ■     ■ ■   ■ ■ ■ ■ ■   ■ \n",
      "    ■   ■   ■   ■   ■ ■   ■     ■ ■ ■ ■ ■   ■     ■ ■ ■ ■ ■ ■     ■           ■ \n",
      "■ ■ ■   ■   ■   ■   ■     ■ ■ ■ ■           ■ ■ ■ ■           ■ ■ ■ ■       ■ ■ \n",
      "        ■   ■   ■   ■ ■ ■ ■       ■       ■ ■       ■       ■ ■       ■   ■ ■   \n",
      "      ■ ■   ■   ■   ■       ■   ■ ■ ■   ■ ■   ■   ■ ■ ■   ■ ■   ■   ■ ■   ■   ■ \n",
      "■   ■ ■     ■   ■   ■ ■   ■ ■   ■       ■     ■   ■       ■     ■   ■     ■   ■ \n",
      "    ■   ■ ■ ■   ■   ■     ■     ■ ■   ■ ■ ■ ■ ■   ■ ■   ■ ■ ■ ■ ■   ■ ■ ■ ■   ■ \n",
      "■ ■ ■   ■       ■   ■ ■ ■ ■ ■ ■ ■     ■           ■     ■           ■         ■ \n",
      "        ■ ■   ■ ■   ■             ■ ■ ■ ■       ■ ■ ■ ■ ■ ■       ■ ■ ■     ■ ■ \n",
      "■     ■ ■     ■     ■ ■         ■ ■       ■   ■ ■           ■   ■ ■     ■ ■ ■   \n",
      "■ ■ ■ ■   ■ ■ ■ ■ ■ ■   ■     ■ ■   ■   ■ ■   ■   ■       ■ ■   ■   ■ ■ ■       \n",
      "■         ■             ■ ■ ■ ■     ■   ■     ■   ■ ■   ■ ■     ■   ■     ■   ■ \n",
      "  ■     ■ ■ ■         ■ ■       ■ ■ ■   ■ ■ ■ ■   ■     ■   ■ ■ ■   ■ ■ ■ ■   ■ \n",
      "  ■ ■ ■ ■     ■     ■ ■   ■   ■ ■       ■         ■ ■ ■ ■   ■       ■         ■ \n",
      "  ■       ■ ■ ■ ■ ■ ■     ■   ■   ■   ■ ■ ■     ■ ■         ■ ■   ■ ■ ■     ■ ■ \n",
      "  ■ ■   ■ ■           ■ ■ ■   ■   ■   ■     ■ ■ ■   ■     ■ ■     ■     ■ ■ ■   \n",
      "■ ■     ■   ■       ■ ■       ■   ■   ■ ■ ■ ■       ■ ■ ■ ■   ■ ■ ■ ■ ■ ■     ■ \n",
      "    ■ ■ ■   ■ ■   ■ ■   ■   ■ ■   ■   ■       ■   ■ ■         ■           ■ ■ ■ \n",
      "■ ■ ■       ■     ■     ■   ■     ■   ■ ■   ■ ■   ■   ■     ■ ■ ■       ■ ■     \n",
      "■     ■   ■ ■ ■ ■ ■ ■ ■ ■   ■ ■ ■ ■   ■     ■     ■   ■ ■ ■ ■     ■   ■ ■   ■ ■ \n",
      "  ■ ■ ■   ■                 ■         ■ ■ ■ ■ ■ ■ ■   ■       ■ ■ ■   ■     ■   \n",
      "■ ■       ■ ■             ■ ■ ■     ■ ■               ■ ■   ■ ■       ■ ■ ■ ■ ■ \n",
      "    ■   ■ ■   ■         ■ ■     ■ ■ ■   ■           ■ ■     ■   ■   ■ ■         \n",
      "  ■ ■   ■     ■ ■     ■ ■   ■ ■ ■       ■ ■       ■ ■   ■ ■ ■   ■   ■   ■       \n",
      "■ ■     ■ ■ ■ ■   ■ ■ ■     ■     ■   ■ ■   ■   ■ ■     ■       ■   ■   ■ ■     \n",
      "■   ■ ■ ■         ■     ■ ■ ■ ■ ■ ■   ■     ■   ■   ■ ■ ■ ■   ■ ■   ■   ■   ■ ■ \n",
      "    ■     ■     ■ ■ ■ ■ ■             ■ ■ ■ ■   ■   ■         ■     ■   ■   ■   \n",
      "  ■ ■ ■ ■ ■ ■ ■ ■         ■         ■ ■         ■   ■ ■     ■ ■ ■ ■ ■   ■   ■ ■ \n",
      "  ■               ■     ■ ■ ■     ■ ■   ■     ■ ■   ■   ■ ■ ■           ■   ■   \n",
      "■ ■ ■           ■ ■ ■ ■ ■     ■ ■ ■     ■ ■ ■ ■     ■   ■     ■       ■ ■   ■ ■ \n",
      "      ■       ■ ■         ■ ■ ■     ■ ■ ■       ■ ■ ■   ■ ■ ■ ■ ■   ■ ■     ■   \n",
      "    ■ ■ ■   ■ ■   ■     ■ ■     ■ ■ ■     ■   ■ ■       ■           ■   ■ ■ ■ ■ \n",
      "■ ■ ■       ■     ■ ■ ■ ■   ■ ■ ■     ■ ■ ■   ■   ■   ■ ■ ■       ■ ■   ■       \n",
      "■     ■   ■ ■ ■ ■ ■         ■     ■ ■ ■       ■   ■   ■     ■   ■ ■     ■ ■   ■ \n",
      "  ■ ■ ■   ■         ■     ■ ■ ■ ■ ■     ■   ■ ■   ■   ■ ■ ■ ■   ■   ■ ■ ■     ■ \n",
      "  ■       ■ ■     ■ ■ ■ ■ ■         ■ ■ ■   ■     ■   ■         ■   ■     ■ ■ ■ \n",
      "  ■ ■   ■ ■   ■ ■ ■         ■     ■ ■       ■ ■ ■ ■   ■ ■     ■ ■   ■ ■ ■ ■     \n",
      "■ ■     ■     ■     ■     ■ ■ ■ ■ ■   ■   ■ ■         ■   ■ ■ ■     ■       ■   \n",
      "■   ■ ■ ■ ■ ■ ■ ■ ■ ■ ■ ■ ■           ■   ■   ■     ■ ■   ■     ■ ■ ■ ■   ■ ■   \n",
      "■   ■                       ■       ■ ■   ■   ■ ■ ■ ■     ■ ■ ■ ■         ■     \n",
      "■   ■ ■                   ■ ■ ■   ■ ■     ■   ■       ■ ■ ■       ■     ■ ■ ■ ■ \n",
      "    ■   ■               ■ ■       ■   ■ ■ ■   ■ ■   ■ ■     ■   ■ ■ ■ ■ ■       \n",
      "  ■ ■   ■ ■           ■ ■   ■   ■ ■   ■       ■     ■   ■ ■ ■   ■         ■     \n",
      "■ ■     ■   ■       ■ ■     ■   ■     ■ ■   ■ ■ ■ ■ ■   ■       ■ ■     ■ ■ ■   \n",
      "■   ■ ■ ■   ■ ■   ■ ■   ■ ■ ■   ■ ■ ■ ■     ■           ■ ■   ■ ■   ■ ■ ■       \n",
      "■   ■       ■     ■     ■       ■       ■ ■ ■ ■       ■ ■     ■     ■     ■   ■ \n",
      "    ■ ■   ■ ■ ■ ■ ■ ■ ■ ■ ■   ■ ■ ■   ■ ■       ■   ■ ■   ■ ■ ■ ■ ■ ■ ■ ■ ■   ■ \n",
      "■ ■ ■     ■                   ■       ■   ■   ■ ■   ■     ■                   ■ \n",
      "      ■ ■ ■ ■               ■ ■ ■   ■ ■   ■   ■     ■ ■ ■ ■ ■               ■ ■ \n",
      "■   ■ ■       ■           ■ ■       ■     ■   ■ ■ ■ ■         ■           ■ ■   \n",
      "■   ■   ■   ■ ■ ■       ■ ■   ■   ■ ■ ■ ■ ■   ■       ■     ■ ■ ■       ■ ■     \n",
      "■   ■   ■   ■     ■   ■ ■     ■   ■           ■ ■   ■ ■ ■ ■ ■     ■   ■ ■   ■ ■ \n",
      "    ■   ■   ■ ■ ■ ■   ■   ■ ■ ■   ■ ■       ■ ■     ■         ■ ■ ■   ■     ■   \n",
      "  ■ ■   ■   ■         ■   ■       ■   ■   ■ ■   ■ ■ ■ ■     ■ ■       ■ ■ ■ ■ ■ \n",
      "  ■     ■   ■ ■     ■ ■   ■ ■   ■ ■   ■   ■     ■       ■ ■ ■   ■   ■ ■         \n",
      "■ ■ ■ ■ ■   ■   ■ ■ ■     ■     ■     ■   ■ ■ ■ ■ ■   ■ ■       ■   ■   ■       \n",
      "■           ■   ■     ■ ■ ■ ■ ■ ■ ■ ■ ■   ■           ■   ■   ■ ■   ■   ■ ■   ■ \n",
      "  ■       ■ ■   ■ ■ ■ ■                   ■ ■       ■ ■   ■   ■     ■   ■     ■ \n",
      "  ■ ■   ■ ■     ■       ■               ■ ■   ■   ■ ■     ■   ■ ■ ■ ■   ■ ■ ■ ■ \n",
      "  ■     ■   ■ ■ ■ ■   ■ ■ ■           ■ ■     ■   ■   ■ ■ ■   ■         ■       \n",
      "■ ■ ■ ■ ■   ■         ■     ■       ■ ■   ■ ■ ■   ■   ■       ■ ■     ■ ■ ■     \n",
      "■           ■ ■     ■ ■ ■ ■ ■ ■   ■ ■     ■       ■   ■ ■   ■ ■   ■ ■ ■     ■ ■ \n",
      "  ■       ■ ■   ■ ■ ■             ■   ■ ■ ■ ■   ■ ■   ■     ■     ■     ■ ■ ■   \n",
      "■ ■ ■   ■ ■     ■     ■         ■ ■   ■         ■     ■ ■ ■ ■ ■ ■ ■ ■ ■ ■     ■ \n",
      "        ■   ■ ■ ■ ■ ■ ■ ■     ■ ■     ■ ■     ■ ■ ■ ■ ■                   ■ ■ ■ \n",
      "■     ■ ■   ■             ■ ■ ■   ■ ■ ■   ■ ■ ■         ■               ■ ■     \n",
      "■ ■ ■ ■     ■ ■         ■ ■       ■       ■     ■     ■ ■ ■           ■ ■   ■ ■ \n",
      "        ■ ■ ■   ■     ■ ■   ■   ■ ■ ■   ■ ■ ■ ■ ■ ■ ■ ■     ■       ■ ■     ■   \n",
      "      ■ ■       ■ ■ ■ ■     ■   ■       ■               ■ ■ ■ ■   ■ ■   ■ ■ ■ ■ \n",
      "■   ■ ■   ■   ■ ■       ■ ■ ■   ■ ■   ■ ■ ■           ■ ■         ■     ■       \n",
      "■   ■     ■   ■   ■   ■ ■       ■     ■     ■       ■ ■   ■     ■ ■ ■ ■ ■ ■   ■ \n"
     ]
    }
   ],
   "source": [
    "for row in grid:\n",
    "    ret = ''\n",
    "    for cell in row:\n",
    "        if cell:\n",
    "            ret += '■ '\n",
    "        else:\n",
    "            ret += '  '\n",
    "    print(ret)"
   ]
  },
  {
   "cell_type": "code",
   "execution_count": null,
   "metadata": {},
   "outputs": [],
   "source": []
  },
  {
   "cell_type": "code",
   "execution_count": null,
   "metadata": {},
   "outputs": [],
   "source": []
  }
 ],
 "metadata": {
  "kernelspec": {
   "display_name": "Python 3",
   "language": "python",
   "name": "python3"
  },
  "language_info": {
   "codemirror_mode": {
    "name": "ipython",
    "version": 3
   },
   "file_extension": ".py",
   "mimetype": "text/x-python",
   "name": "python",
   "nbconvert_exporter": "python",
   "pygments_lexer": "ipython3",
   "version": "3.7.5"
  }
 },
 "nbformat": 4,
 "nbformat_minor": 4
}
